{
 "cells": [
  {
   "cell_type": "markdown",
   "metadata": {},
   "source": [
    "#                     Instituto Balseiro - Física Experimental II\n",
    "#                       Implementación de un PLL en Pythooooonnnn"
   ]
  },
  {
   "cell_type": "markdown",
   "metadata": {},
   "source": [
    "## Introducción:"
   ]
  },
  {
   "cell_type": "markdown",
   "metadata": {},
   "source": [
    "Se conoce como Phase Locked Loop (PLL) o lazo de seguimiento de fase a un sistema de control capaz de generar una señal de salida que sigue a la de entrada en frecuencia y fase. Debido a sus características, el sistema permite obtener señales estables, sincronizar y demodular frecuencias. Estas propiedades hacen que sea usado frecuentemente en el área de las comunicaciones..."
   ]
  },
  {
   "cell_type": "markdown",
   "metadata": {},
   "source": [
    "No se bien como meter una imagen local, sino habría que subirla a algún lado\n",
    "![PLL_graph0.png](\\Users\\fmart\\Desktop\\Estudio\\Balseiro\\Experimental II\\PLL)\n",
    "<img src=\"/Users/fmart/Desktop/Estudio/Balseiro/Experimental II/PLL\">"
   ]
  },
  {
   "attachments": {},
   "cell_type": "markdown",
   "metadata": {},
   "source": [
    "El esquema básico de un PLL puede verse en el diagrama de bloques de la figura 1. Este consta de las siguientes etapas:<br>\n",
    "    1) El ***detector de fases*** genera una señal con una componente continua proporcional a la diferencia de fase $\\Delta \\phi$ entre la entrada y la salida del VCO. El mismo puede ser implementado de distintas maneras, como con un multiplicador de cuatro cuadrantes o uno con lógica XOR.<br>\n",
    "    2) La señal de salida del detector es luego filtrada por un ***filtro pasa bajos*** para atenuar la componente alterna y obtener una señal lo más continua posible. El mismo, similar al detector de fases, puede ser implementado de distintas maneras. En particular para esta experiencia, se utilizó un RC y un Lead-lag activo,<br>\n",
    "    3) La señal continua filtrada, la cual es proporcional a $\\Delta \\phi$, ingresa al ***VCO*** (oscilador controlado por voltaje). El cual genera una señal periódica cuya frecuencia es  proporcional a la tensión (desfasaje) que recibe. Luego se termina la iteración del ciclo cuando la salida del VCO va a parar al detector de fase para continuar con la retroalimentación.<br>\n",
    "\n"
   ]
  },
  {
   "cell_type": "markdown",
   "metadata": {},
   "source": [
    "\n",
    "\n",
    "\n"
   ]
  },
  {
   "cell_type": "markdown",
   "metadata": {},
   "source": [
    "## Fuente de Señal"
   ]
  },
  {
   "cell_type": "code",
   "execution_count": null,
   "metadata": {},
   "outputs": [],
   "source": []
  },
  {
   "cell_type": "code",
   "execution_count": null,
   "metadata": {},
   "outputs": [],
   "source": []
  },
  {
   "cell_type": "code",
   "execution_count": null,
   "metadata": {},
   "outputs": [],
   "source": []
  },
  {
   "cell_type": "code",
   "execution_count": null,
   "metadata": {},
   "outputs": [],
   "source": []
  },
  {
   "cell_type": "code",
   "execution_count": null,
   "metadata": {},
   "outputs": [],
   "source": []
  }
 ],
 "metadata": {
  "kernelspec": {
   "display_name": "Python 3",
   "language": "python",
   "name": "python3"
  },
  "language_info": {
   "codemirror_mode": {
    "name": "ipython",
    "version": 3
   },
   "file_extension": ".py",
   "mimetype": "text/x-python",
   "name": "python",
   "nbconvert_exporter": "python",
   "pygments_lexer": "ipython3",
   "version": "3.6.10"
  }
 },
 "nbformat": 4,
 "nbformat_minor": 2
}
